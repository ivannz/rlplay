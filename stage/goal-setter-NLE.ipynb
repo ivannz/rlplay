{
 "cells": [
  {
   "cell_type": "markdown",
   "id": "970feb97",
   "metadata": {},
   "source": [
    "### Noteworthy stuff\n",
    "\n",
    "some [source diving](https://nethackwiki.com/wiki/Source_diving)\n",
    "* `nle/include/hack.h:349` -- stdin user confirmation\n",
    "  * auto-confirmation? requires game logic, level-design, and interaction analysis\n",
    "  * somehow intercept the stdin stream\n",
    "* `nle/src/allmain.c:53-65` -- real world effects seeping into the game\n",
    "* `nle/src/rnd.c:64`  -- biased uniform ${1..N}$ random nubmer generator\n",
    "  * $\\mathrm{uin64} \\mod N$ is biased, should use rejection sampling over the next power-of-two\n",
    "\n",
    "* `nle/src/drawing.c:142` the topology, objects and other glyphs"
   ]
  },
  {
   "cell_type": "code",
   "execution_count": null,
   "id": "d7bf8ee0",
   "metadata": {},
   "outputs": [],
   "source": [
    "import numpy\n",
    "import torch"
   ]
  },
  {
   "cell_type": "code",
   "execution_count": null,
   "id": "5c81d54e",
   "metadata": {},
   "outputs": [],
   "source": [
    "import gym"
   ]
  },
  {
   "cell_type": "markdown",
   "id": "fc06ef0d",
   "metadata": {},
   "source": [
    "* autopickup `@` -- toggle\n",
    "* safe movement `m` -- key comb\n"
   ]
  },
  {
   "cell_type": "code",
   "execution_count": null,
   "id": "d6122d70",
   "metadata": {},
   "outputs": [],
   "source": [
    "import nle\n",
    "\n",
    "from collections import namedtuple\n",
    "\n",
    "# Bottom Line statistics namedtuple\n",
    "BLStats = namedtuple('BLStats', [\n",
    "    'x',\n",
    "    'y',\n",
    "    'strength_percentage',\n",
    "    'str',  # 'strength',\n",
    "    'dex',  # 'dexterity',\n",
    "    'con',  # 'constitution',\n",
    "    'int',  # 'intelligence',\n",
    "    'wis',  # 'wisdom',\n",
    "    'cha',  # 'charisma',\n",
    "    'score',\n",
    "    'hitpoints',\n",
    "    'max_hitpoints',\n",
    "    'depth',\n",
    "    'gold',\n",
    "    'energy',\n",
    "    'max_energy',\n",
    "    'armor_class',\n",
    "    'monster_level',\n",
    "    'experience_level',\n",
    "    'experience_points',\n",
    "    'time',\n",
    "    'hunger_state',\n",
    "    'carrying_capacity',\n",
    "    'dungeon_number',\n",
    "    'level_number',\n",
    "])"
   ]
  },
  {
   "cell_type": "code",
   "execution_count": null,
   "id": "2f7b38d2",
   "metadata": {},
   "outputs": [],
   "source": [
    "class NLEWrapper(gym.ObservationWrapper):\n",
    "    def observation(self, observation):\n",
    "        observation['blstats'] = BLStats._make(observation['blstats'])\n",
    "        return observation\n",
    "\n",
    "    @property\n",
    "    def last_observation(self):\n",
    "        return self.observation(self.env._get_observation(self.env.last_observation))\n",
    "    \n",
    "    def __getattr__(self, name):\n",
    "        # delegate the missing instance and calss attr's to the underlying env\n",
    "        return getattr(self.env, name)"
   ]
  },
  {
   "cell_type": "markdown",
   "id": "a949f826",
   "metadata": {},
   "source": [
    "Let's create an aliased `npy-pyt` context to play around with"
   ]
  },
  {
   "cell_type": "code",
   "execution_count": null,
   "id": "638ac63a",
   "metadata": {},
   "outputs": [],
   "source": [
    "from rlplay.engine.core import context\n",
    "\n",
    "env = NLEWrapper(gym.make(\"NetHackScore-v0\"))\n",
    "ctx = context(env)\n",
    "\n",
    "obs = env.last_observation"
   ]
  },
  {
   "cell_type": "code",
   "execution_count": null,
   "id": "e50e7fcf",
   "metadata": {},
   "outputs": [],
   "source": [
    "# XXX we should prolly filter contorl ascii  if act >= 0x20 else act\n",
    "\n",
    "ctoa = {chr(act): act for act in env.env._actions}\n",
    "aton = {act: j for j, act in enumerate(env.env._actions)}"
   ]
  },
  {
   "cell_type": "code",
   "execution_count": null,
   "id": "eae5aba6",
   "metadata": {},
   "outputs": [],
   "source": [
    "env.render()\n",
    "obs, rew, done, info = env.step(aton[ctoa[input('>>> ')]])\n",
    "env.render()\n",
    "\n",
    "# 333 is the `@` glyph\n",
    "\n",
    "bls = obs['blstats']\n",
    "obs['glyphs'][\n",
    "    bls.y - 5:bls.y + 5,\n",
    "    bls.x - 5:bls.x + 5,\n",
    "]"
   ]
  },
  {
   "cell_type": "markdown",
   "id": "719fd53f",
   "metadata": {},
   "source": [
    "```pre\n",
    "array([[    ,     ,     ,     ,     ,     ,     ,     ,     ,     ],\n",
    "       [    ,     ,     ,     ,     ,     ,     ,     ,     ,     ],\n",
    "       [    ,     ,     ,     ,     ,     ,     ,     ,     ,     ],\n",
    "       [    ,     ,     ,     ,     ,     ,     ,     ,     ,     ],\n",
    "       [    ,     ,     ,     , 2380, 2362, 2371, 2361, 2361, 2361],\n",
    "       [    ,     ,     ,     , 2380,  '@',  397, 2378, 2378, 2378],\n",
    "       [    ,     ,     ,     ,     , 2360, 2378, 2378, 2378, 1215],\n",
    "       [    ,     ,     ,     ,     , 2360, 2378, 2378, 2378, 2378],\n",
    "       [    ,     ,     ,     ,     , 2364, 2361, 2361, 2361, 2361],\n",
    "       [    ,     ,     ,     ,     ,     ,     ,     ,     ,     ]],\n",
    "      dtype=int16)\n",
    "```"
   ]
  },
  {
   "cell_type": "code",
   "execution_count": null,
   "id": "e4a81a63",
   "metadata": {},
   "outputs": [],
   "source": [
    "# 2359 -- UNK\n",
    "# 2380 -- `#` -- walkable\n",
    "# 397 -- door\n",
    "# 2378 -- floor"
   ]
  },
  {
   "cell_type": "code",
   "execution_count": null,
   "id": "e7e76bfb",
   "metadata": {},
   "outputs": [],
   "source": [
    "\n",
    "bls = obs['blstats']\n",
    "obs['glyphs'][bls.y-5:bls.y+5,\n",
    "              bls.x-5:bls.x+5,]"
   ]
  },
  {
   "cell_type": "code",
   "execution_count": null,
   "id": "9168686d",
   "metadata": {},
   "outputs": [],
   "source": [
    "from plyr import suply\n",
    "\n",
    "# suply(numpy.ndarray.shape.__get__, obs)\n",
    "suply(lambda x: x.shape + (x.dtype,), obs)"
   ]
  },
  {
   "cell_type": "code",
   "execution_count": null,
   "id": "6dc93706",
   "metadata": {},
   "outputs": [],
   "source": [
    "from nle import nethack\n",
    "\n",
    "glyph = torch.nn.Embedding(nethack.MAX_GLYPH, embedding_dim=32, )"
   ]
  },
  {
   "cell_type": "code",
   "execution_count": null,
   "id": "d3a39ebd",
   "metadata": {},
   "outputs": [],
   "source": [
    "x = glyph(ctx.pyt.obs['glyphs'].long())"
   ]
  },
  {
   "cell_type": "code",
   "execution_count": null,
   "id": "8154e6f8",
   "metadata": {},
   "outputs": [],
   "source": [
    "ctx.npy.obs['glyphs']"
   ]
  },
  {
   "cell_type": "code",
   "execution_count": null,
   "id": "c24945f8",
   "metadata": {},
   "outputs": [],
   "source": [
    "env.render()"
   ]
  },
  {
   "cell_type": "code",
   "execution_count": null,
   "id": "86c8aa6d",
   "metadata": {},
   "outputs": [],
   "source": [
    "x"
   ]
  },
  {
   "cell_type": "code",
   "execution_count": null,
   "id": "c7afad10",
   "metadata": {},
   "outputs": [],
   "source": [
    "BLStats(*obs['blstats'].tolist())"
   ]
  },
  {
   "cell_type": "code",
   "execution_count": null,
   "id": "869c5f95",
   "metadata": {},
   "outputs": [],
   "source": [
    "obs['message'].view('S256')"
   ]
  },
  {
   "cell_type": "code",
   "execution_count": null,
   "id": "bb75269b",
   "metadata": {},
   "outputs": [],
   "source": [
    "obs['inv_glyphs']  # 55 -- items' look (viz.) ID\n",
    "# obs['inv']"
   ]
  },
  {
   "cell_type": "code",
   "execution_count": null,
   "id": "48846e2b",
   "metadata": {},
   "outputs": [],
   "source": [
    "obs['inv_strs'].view('S80')"
   ]
  },
  {
   "cell_type": "code",
   "execution_count": null,
   "id": "d3b05871",
   "metadata": {},
   "outputs": [],
   "source": [
    "env.print_action_meanings()"
   ]
  },
  {
   "cell_type": "code",
   "execution_count": null,
   "id": "ed03046c",
   "metadata": {},
   "outputs": [],
   "source": [
    "obs, rew, done, info = env.step(0\n",
    "                               )\n",
    "env.render()"
   ]
  },
  {
   "cell_type": "code",
   "execution_count": null,
   "id": "e730bf30",
   "metadata": {},
   "outputs": [],
   "source": [
    "obs['glyphs']"
   ]
  },
  {
   "cell_type": "code",
   "execution_count": null,
   "id": "75fd2884",
   "metadata": {},
   "outputs": [],
   "source": [
    "# obs['blstats']"
   ]
  },
  {
   "cell_type": "code",
   "execution_count": null,
   "id": "0979a0e7",
   "metadata": {},
   "outputs": [],
   "source": [
    "obs['glyphs'].shape"
   ]
  },
  {
   "cell_type": "code",
   "execution_count": null,
   "id": "7db98411",
   "metadata": {},
   "outputs": [],
   "source": []
  }
 ],
 "metadata": {
  "kernelspec": {
   "display_name": "Python 3",
   "language": "python",
   "name": "python3"
  },
  "language_info": {
   "codemirror_mode": {
    "name": "ipython",
    "version": 3
   },
   "file_extension": ".py",
   "mimetype": "text/x-python",
   "name": "python",
   "nbconvert_exporter": "python",
   "pygments_lexer": "ipython3",
   "version": "3.9.5"
  }
 },
 "nbformat": 4,
 "nbformat_minor": 5
}
