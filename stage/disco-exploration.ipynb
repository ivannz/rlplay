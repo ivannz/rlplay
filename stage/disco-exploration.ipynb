{
 "cells": [
  {
   "cell_type": "code",
   "execution_count": null,
   "id": "a1b1324b",
   "metadata": {},
   "outputs": [],
   "source": [
    "import torch\n",
    "import numpy"
   ]
  },
  {
   "cell_type": "markdown",
   "id": "a5cfc643",
   "metadata": {},
   "source": [
    "Simple residual-conv module"
   ]
  },
  {
   "cell_type": "code",
   "execution_count": null,
   "id": "54481f9c",
   "metadata": {},
   "outputs": [],
   "source": [
    "import torch.nn.functional as F\n",
    "from torch.nn import Conv2d, ConvTranspose2d\n",
    "\n",
    "class ResBlk(torch.nn.Module):\n",
    "    def __init__(self, in_channels=32):\n",
    "        super().__init__()\n",
    "        \n",
    "        n, m = in_channels, in_channels * 2\n",
    "        self.conv1 = Conv2d(n, m, 3, padding=0)\n",
    "        self.conv2 = Conv2d(m, m, 1, padding=0)\n",
    "        self.conv3 = ConvTranspose2d(m, n, 3, padding=0)\n",
    "    \n",
    "    def forward(self, input):\n",
    "        x = F.relu(self.conv1(input))\n",
    "        x = F.relu(self.conv2(x))\n",
    "        z = input + self.conv3(x)\n",
    "        return z \n",
    "\n",
    "class ResMod(torch.nn.Module):\n",
    "    def __init__(self, in_channels=3, out_channels=128):\n",
    "        super().__init__()\n",
    "\n",
    "        self.conv1 = Conv2d(3, 32, 1)\n",
    "        self.rb1 = ResBlk(32)\n",
    "\n",
    "        self.conv2 = Conv2d(32, 64, 3)\n",
    "        self.rb2 = ResBlk(64)\n",
    "\n",
    "        self.conv3 = Conv2d(64, 128, 3)\n",
    "    \n",
    "    def forward(self, input):\n",
    "        x = input\n",
    "        x = F.relu(self.rb1(self.conv1(x)))\n",
    "        x = F.relu(self.rb2(self.conv2(x)))\n",
    "        return self.conv3(x).flatten(-3, -1)"
   ]
  },
  {
   "cell_type": "markdown",
   "id": "93544152",
   "metadata": {},
   "source": [
    "The policy module"
   ]
  },
  {
   "cell_type": "code",
   "execution_count": null,
   "id": "b7509e24",
   "metadata": {},
   "outputs": [],
   "source": [
    "from torch.nn import LSTM, Linear\n",
    "\n",
    "class RDMModule(torch.nn.Module):\n",
    "    def __init__(self, n_actions=5):\n",
    "        super().__init__()\n",
    "        \n",
    "        self.features = ResMod()\n",
    "        self.core = LSTM(128, 128, 1, batch_first=False, bidirectional=False)\n",
    "        self.output = Linear(128, 1 + n_actions)\n",
    "    \n",
    "    def forward(self, input, goal):\n",
    "        pass"
   ]
  },
  {
   "cell_type": "code",
   "execution_count": null,
   "id": "843ed010",
   "metadata": {},
   "outputs": [],
   "source": [
    "import matplotlib.pyplot as plt"
   ]
  },
  {
   "cell_type": "code",
   "execution_count": null,
   "id": "de4d67a2",
   "metadata": {},
   "outputs": [],
   "source": [
    "from gym_discomaze.ext import ExploreRandomDiscoMaze\n",
    "from gym_discomaze import RandomDiscoMaze"
   ]
  },
  {
   "cell_type": "code",
   "execution_count": null,
   "id": "45de5df3",
   "metadata": {},
   "outputs": [],
   "source": [
    "def factory():\n",
    "    return ExploreRandomDiscoMaze(5, 5, field=(2, 2))"
   ]
  },
  {
   "cell_type": "code",
   "execution_count": null,
   "id": "53496251",
   "metadata": {},
   "outputs": [],
   "source": [
    "env = factory()"
   ]
  },
  {
   "cell_type": "code",
   "execution_count": null,
   "id": "2f87bf0a",
   "metadata": {},
   "outputs": [],
   "source": [
    "while env.render(mode='human'):\n",
    "    pass"
   ]
  },
  {
   "cell_type": "code",
   "execution_count": null,
   "id": "474ad176",
   "metadata": {},
   "outputs": [],
   "source": [
    "env.close()"
   ]
  },
  {
   "cell_type": "code",
   "execution_count": null,
   "id": "5bbc9321",
   "metadata": {},
   "outputs": [],
   "source": [
    "torch.randn(2, 3, 4, 2).flatten(1).shape"
   ]
  },
  {
   "cell_type": "code",
   "execution_count": null,
   "id": "4433919a",
   "metadata": {},
   "outputs": [],
   "source": [
    "def batchify(fn, input, *, end):\n",
    "    # b_0 x ... x b_{m} x ... ->> [b_0 x ... x b_{m}] x ...\n",
    "    out = fn(input.flatten(0, end))\n",
    "    return out.view(input.shape[:end + 1] + out.shape[1:])"
   ]
  },
  {
   "cell_type": "code",
   "execution_count": null,
   "id": "bda2db34",
   "metadata": {},
   "outputs": [],
   "source": [
    "from rlplay.engine.core import context\n",
    "from rlplay.engine.utils.shared import aliased\n",
    "\n",
    "ctx = context(env)\n",
    "buf = aliased(ctx.npy, 16)"
   ]
  },
  {
   "cell_type": "code",
   "execution_count": null,
   "id": "aa9f2f7a",
   "metadata": {},
   "outputs": [],
   "source": [
    "from rlplay.engine.utils.plyr import suply\n",
    "from rlplay.engine.rollout.same import rollout"
   ]
  },
  {
   "cell_type": "code",
   "execution_count": null,
   "id": "8b6ec29c",
   "metadata": {},
   "outputs": [],
   "source": [
    "buf.pyt."
   ]
  },
  {
   "cell_type": "code",
   "execution_count": null,
   "id": "621486a2",
   "metadata": {},
   "outputs": [],
   "source": [
    "stepno, obs, act, rew, fin = buf.pyt"
   ]
  },
  {
   "cell_type": "code",
   "execution_count": null,
   "id": "8fdba864",
   "metadata": {},
   "outputs": [],
   "source": [
    "x = obs.permute(0, 1, 4, 2, 3).div(255).sub_(0.5)\n",
    "\n",
    "y = x.flatten(0, 1)"
   ]
  },
  {
   "cell_type": "code",
   "execution_count": null,
   "id": "8f65add6",
   "metadata": {},
   "outputs": [],
   "source": [
    "env.action_space"
   ]
  },
  {
   "cell_type": "code",
   "execution_count": null,
   "id": "2cb3ac2f",
   "metadata": {},
   "outputs": [],
   "source": [
    "res = ResMod()"
   ]
  },
  {
   "cell_type": "code",
   "execution_count": null,
   "id": "d6f98af7",
   "metadata": {},
   "outputs": [],
   "source": [
    "res(y).shape"
   ]
  },
  {
   "cell_type": "code",
   "execution_count": null,
   "id": "e6768b91",
   "metadata": {},
   "outputs": [],
   "source": [
    "# out = batchify(conv1, x, end=1)"
   ]
  },
  {
   "cell_type": "code",
   "execution_count": null,
   "id": "da5a0c3c",
   "metadata": {},
   "outputs": [],
   "source": [
    "out.shape"
   ]
  },
  {
   "cell_type": "markdown",
   "id": "75905574",
   "metadata": {},
   "source": [
    "<br>"
   ]
  }
 ],
 "metadata": {
  "kernelspec": {
   "display_name": "Python 3",
   "language": "python",
   "name": "python3"
  },
  "language_info": {
   "codemirror_mode": {
    "name": "ipython",
    "version": 3
   },
   "file_extension": ".py",
   "mimetype": "text/x-python",
   "name": "python",
   "nbconvert_exporter": "python",
   "pygments_lexer": "ipython3",
   "version": "3.9.5"
  }
 },
 "nbformat": 4,
 "nbformat_minor": 5
}
